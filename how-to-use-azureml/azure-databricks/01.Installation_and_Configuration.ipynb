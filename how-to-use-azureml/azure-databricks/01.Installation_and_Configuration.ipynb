{
 "cells": [
  {
   "cell_type": "markdown",
   "metadata": {},
   "source": [
    "Azure ML & Azure Databricks notebooks by Parashar Shah.\n",
    "\n",
    "Copyright (c) Microsoft Corporation. All rights reserved.\n",
    "\n",
    "Licensed under the MIT License."
   ]
  },
  {
   "cell_type": "markdown",
   "metadata": {},
   "source": [
    "We support installing AML SDK as library from GUI. When attaching a library follow this https://docs.databricks.com/user-guide/libraries.html and add the below string as your PyPi package. You can select the option to attach the library to all clusters or just one cluster.\n",
    "\n",
    "**azureml-sdk**\n",
    "* Source: Upload Python Egg or PyPi\n",
    "* PyPi Name: `azureml-sdk[databricks]`\n",
    "* Select Install Library"
   ]
  },
  {
   "cell_type": "code",
   "execution_count": null,
   "metadata": {},
   "outputs": [],
   "source": [
    "import azureml.core\n",
    "\n",
    "# Check core SDK version number - based on build number of preview/master.\n",
    "print(\"SDK version:\", azureml.core.VERSION)"
   ]
  },
  {
   "cell_type": "markdown",
   "metadata": {},
   "source": [
    "![04ACI](files/tables/image2b.JPG)"
   ]
  },
  {
   "cell_type": "markdown",
   "metadata": {},
   "source": [
    "Please specify the Azure subscription Id, resource group name, workspace name, and the region in which you want to create the Azure Machine Learning Workspace.\n",
    "\n",
    "You can get the value of your Azure subscription ID from the Azure Portal, and then selecting Subscriptions from the menu on the left.\n",
    "\n",
    "For the resource_group, use the name of the resource group that contains your Azure Databricks Workspace.\n",
    "\n",
    "NOTE: If you provide a resource group name that does not exist, the resource group will be automatically created. This may or may not succeed in your environment, depending on the permissions you have on your Azure Subscription."
   ]
  },
  {
   "cell_type": "code",
   "execution_count": null,
   "metadata": {},
   "outputs": [],
   "source": [
    "# subscription_id = \"<your-subscription-id>\"\n",
    "# resource_group = \"<your-existing-resource-group>\"\n",
    "# workspace_name = \"<a-new-or-existing-workspace; it is unrelated to Databricks workspace>\"\n",
    "# workspace_region = \"<your-resource group-region>\""
   ]
  },
  {
   "cell_type": "code",
   "execution_count": null,
   "metadata": {},
   "outputs": [],
   "source": [
    "##TESTONLY\n",
    "# import auth creds from notebook parameters\n",
    "tenant = dbutils.widgets.get('tenant_id')\n",
    "username = dbutils.widgets.get('service_principal_id')\n",
    "password = dbutils.widgets.get('service_principal_password')\n",
    "\n",
    "auth = azureml.core.authentication.ServicePrincipalAuthentication(tenant, username, password)"
   ]
  },
  {
   "cell_type": "code",
   "execution_count": null,
   "metadata": {},
   "outputs": [],
   "source": [
    "##TESTONLY\n",
    "subscription_id  = dbutils.widgets.get('subscription_id')\n",
    "resource_group = dbutils.widgets.get('resource_group')\n",
    "workspace_name = dbutils.widgets.get('workspace_name')\n",
    "workspace_region = dbutils.widgets.get('workspace_region')"
   ]
  },
  {
   "cell_type": "code",
   "execution_count": null,
   "metadata": {},
   "outputs": [],
   "source": [
    "##TESTONLY\n",
    "# import the Workspace class and check the azureml SDK version\n",
    "# exist_ok checks if workspace exists or not.\n",
    "\n",
    "from azureml.core import Workspace\n",
    "\n",
    "ws = Workspace.create(name = workspace_name,\n",
    "                      subscription_id = subscription_id,\n",
    "                      resource_group = resource_group, \n",
    "                      location = workspace_region,\n",
    "                      auth = auth,\n",
    "                      exist_ok=True)"
   ]
  },
  {
   "cell_type": "code",
   "execution_count": null,
   "metadata": {},
   "outputs": [],
   "source": [
    "##PUBLISHONLY\n",
    "## import the Workspace class and check the azureml SDK version\n",
    "## exist_ok checks if workspace exists or not.\n",
    "#\n",
    "#from azureml.core import Workspace\n",
    "#\n",
    "#ws = Workspace.create(name = workspace_name,\n",
    "#                      subscription_id = subscription_id,\n",
    "#                      resource_group = resource_group, \n",
    "#                      location = workspace_region,\n",
    "#                      exist_ok=True)"
   ]
  },
  {
   "cell_type": "code",
   "execution_count": null,
   "metadata": {},
   "outputs": [],
   "source": [
    "#get workspace details\n",
    "ws.get_details()"
   ]
  },
  {
   "cell_type": "code",
   "execution_count": null,
   "metadata": {},
   "outputs": [],
   "source": [
    "##TESTONLY\n",
    "ws = Workspace(workspace_name = workspace_name,\n",
    "               subscription_id = subscription_id,\n",
    "               resource_group = resource_group,\n",
    "               auth = auth)\n",
    "\n",
    "# persist the subscription id, resource group name, and workspace name in aml_config/config.json.\n",
    "ws.write_config()"
   ]
  },
  {
   "cell_type": "code",
   "execution_count": null,
   "metadata": {},
   "outputs": [],
   "source": [
    "##PUBLISHONLY\n",
    "#ws = Workspace(workspace_name = workspace_name,\n",
    "#               subscription_id = subscription_id,\n",
    "#               resource_group = resource_group)\n",
    "#\n",
    "## persist the subscription id, resource group name, and workspace name in aml_config/config.json.\n",
    "#ws.write_config()\n",
    "###if you need to give a different path/filename please use this\n",
    "###write_config(path=\"/databricks/driver/aml_config/\",file_name=<alias_conf.cfg>)"
   ]
  },
  {
   "cell_type": "code",
   "execution_count": null,
   "metadata": {},
   "outputs": [],
   "source": [
    "help(Workspace)"
   ]
  },
  {
   "cell_type": "code",
   "execution_count": null,
   "metadata": {},
   "outputs": [],
   "source": [
    "##TESTONLY\n",
    "# import the Workspace class and check the azureml SDK version\n",
    "from azureml.core import Workspace\n",
    "\n",
    "ws = Workspace.from_config(auth = auth)\n",
    "#ws = Workspace.from_config(<full path>)\n",
    "print('Workspace name: ' + ws.name, \n",
    "      'Azure region: ' + ws.location, \n",
    "      'Subscription id: ' + ws.subscription_id, \n",
    "      'Resource group: ' + ws.resource_group, sep = '\\n')"
   ]
  },
  {
   "cell_type": "code",
   "execution_count": null,
   "metadata": {},
   "outputs": [],
   "source": [
    "##PUBLISHONLY\n",
    "## import the Workspace class and check the azureml SDK version\n",
    "#from azureml.core import Workspace\n",
    "#\n",
    "#ws = Workspace.from_config()\n",
    "##ws = Workspace.from_config(<full path>)\n",
    "#print('Workspace name: ' + ws.name, \n",
    "#      'Azure region: ' + ws.location, \n",
    "#      'Subscription id: ' + ws.subscription_id, \n",
    "#      'Resource group: ' + ws.resource_group, sep = '\\n')"
   ]
  },
  {
   "cell_type": "code",
   "execution_count": null,
   "metadata": {},
   "outputs": [],
   "source": []
  }
 ],
 "metadata": {
  "authors": [
   {
    "name": "pasha"
   },
   {
    "name": "wamartin"
   }
  ],
  "kernelspec": {
   "display_name": "Python 3",
   "language": "python",
   "name": "python3"
  },
  "language_info": {
   "codemirror_mode": {
    "name": "ipython",
    "version": 3
   },
   "file_extension": ".py",
   "mimetype": "text/x-python",
   "name": "python",
   "nbconvert_exporter": "python",
   "pygments_lexer": "ipython3",
   "version": "3.7.0"
  },
  "name": "01.Installation_and_Configuration",
  "notebookId": 3836944406456490
 },
 "nbformat": 4,
 "nbformat_minor": 1
}
